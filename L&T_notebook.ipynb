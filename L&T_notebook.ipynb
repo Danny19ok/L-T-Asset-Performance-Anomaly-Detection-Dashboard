{
 "cells": [
  {
   "cell_type": "code",
   "execution_count": 1,
   "id": "a664e0df",
   "metadata": {},
   "outputs": [],
   "source": [
    "import numpy as np\n",
    "import pandas as pd\n"
   ]
  },
  {
   "cell_type": "code",
   "execution_count": 23,
   "id": "01fbf0b4",
   "metadata": {},
   "outputs": [],
   "source": [
    "df=pd.read_csv(\"operadata.csv\")"
   ]
  },
  {
   "cell_type": "code",
   "execution_count": 24,
   "id": "ef38e2a4",
   "metadata": {},
   "outputs": [
    {
     "data": {
      "text/plain": [
       "Index(['Asset_Code', 'JobCode', 'ASSET_CODE', 'IOT_ASSET_CODE',\n",
       "       'LS_ASSET_CODE', 'LSWorkType', 'JOB_CODE', 'Monthvalues', 'YearValues',\n",
       "       'LogSheetDayCount', 'IOTDayCount', 'IOTRunHr', 'LOGSheetRunHr',\n",
       "       'IOTUtilization', 'LogUtilization', 'IC_CODE', 'BU_CODE', 'BU_CODE_A',\n",
       "       'BU_Description', 'IC_CODE_A', 'IC_Description', 'MthYr',\n",
       "       'MatchedAssetCount', 'Deviation', 'IOTWOrkDone', 'LogSheetWorkDone',\n",
       "       'Asset_Description', 'IC_Short_Description', 'ExpectedLogSheetHr',\n",
       "       'ExpectedIOTHrs', 'Capacity', 'AssetStatus', 'FGDescription',\n",
       "       'PlantMasterDescription', 'AssetGrp', 'Deviation_WD', 'LogIssueQty',\n",
       "       'UtilizationHrs_Considered', 'UtilizationPerc_Considered',\n",
       "       'ExpectedHrs_Considered', 'WorkDoneQTY_Considered', 'UtilizationStatus',\n",
       "       'AssetOwned', 'LFProductivityPercent', 'FSFProductivityPercent',\n",
       "       'SFProductivityPercent', 'ProductivityPercent',\n",
       "       'UtilizationStatus_Month', 'WorkByBMValues', 'AssetMonthYr',\n",
       "       'AssetMatch', 'ExcelAssetCode', 'ExcelBenchmarkProductivity',\n",
       "       'ActualIssueQty', 'Expected_FuelQuantity'],\n",
       "      dtype='object')"
      ]
     },
     "execution_count": 24,
     "metadata": {},
     "output_type": "execute_result"
    }
   ],
   "source": [
    "df.columns"
   ]
  },
  {
   "cell_type": "code",
   "execution_count": 25,
   "id": "7cb2fd06",
   "metadata": {},
   "outputs": [],
   "source": [
    "df=df.drop(columns=[\"Asset_Code\",\"ExcelBenchmarkProductivity\",\"JobCode\",'AssetMonthYr',\n",
    "       'AssetMatch', 'ExcelAssetCode', 'ExcelBenchmarkProductivity', 'AssetOwned', 'LFProductivityPercent', \n",
    "       'FSFProductivityPercent','SFProductivityPercent','UtilizationStatus_Month',\"AssetStatus\",'IC_CODE', 'BU_CODE', 'BU_CODE_A',\n",
    "       'IC_CODE_A',  'FGDescription', 'PlantMasterDescription','WorkByBMValues','ActualIssueQty','LogIssueQty','MthYr', \n",
    "       'IOT_ASSET_CODE', 'LS_ASSET_CODE','ExpectedHrs_Considered', 'WorkDoneQTY_Considered','Deviation_WD','IC_Short_Description','MatchedAssetCount'],axis=1)"
   ]
  },
  {
   "cell_type": "code",
   "execution_count": 26,
   "id": "a75d2034",
   "metadata": {},
   "outputs": [
    {
     "data": {
      "text/plain": [
       "Index(['ASSET_CODE', 'LSWorkType', 'JOB_CODE', 'Monthvalues', 'YearValues',\n",
       "       'LogSheetDayCount', 'IOTDayCount', 'IOTRunHr', 'LOGSheetRunHr',\n",
       "       'IOTUtilization', 'LogUtilization', 'BU_Description', 'IC_Description',\n",
       "       'Deviation', 'IOTWOrkDone', 'LogSheetWorkDone', 'Asset_Description',\n",
       "       'ExpectedLogSheetHr', 'ExpectedIOTHrs', 'Capacity', 'AssetGrp',\n",
       "       'UtilizationHrs_Considered', 'UtilizationPerc_Considered',\n",
       "       'UtilizationStatus', 'ProductivityPercent', 'Expected_FuelQuantity'],\n",
       "      dtype='object')"
      ]
     },
     "execution_count": 26,
     "metadata": {},
     "output_type": "execute_result"
    }
   ],
   "source": [
    "df.columns"
   ]
  },
  {
   "cell_type": "code",
   "execution_count": 28,
   "id": "222c037d",
   "metadata": {},
   "outputs": [
    {
     "data": {
      "text/html": [
       "<div>\n",
       "<style scoped>\n",
       "    .dataframe tbody tr th:only-of-type {\n",
       "        vertical-align: middle;\n",
       "    }\n",
       "\n",
       "    .dataframe tbody tr th {\n",
       "        vertical-align: top;\n",
       "    }\n",
       "\n",
       "    .dataframe thead th {\n",
       "        text-align: right;\n",
       "    }\n",
       "</style>\n",
       "<table border=\"1\" class=\"dataframe\">\n",
       "  <thead>\n",
       "    <tr style=\"text-align: right;\">\n",
       "      <th></th>\n",
       "      <th>ASSET_CODE</th>\n",
       "      <th>LSWorkType</th>\n",
       "      <th>JOB_CODE</th>\n",
       "      <th>Monthvalues</th>\n",
       "      <th>YearValues</th>\n",
       "      <th>LogSheetDayCount</th>\n",
       "      <th>IOTDayCount</th>\n",
       "      <th>IOTRunHr</th>\n",
       "      <th>LOGSheetRunHr</th>\n",
       "      <th>IOTUtilization</th>\n",
       "      <th>...</th>\n",
       "      <th>Asset_Description</th>\n",
       "      <th>ExpectedLogSheetHr</th>\n",
       "      <th>ExpectedIOTHrs</th>\n",
       "      <th>Capacity</th>\n",
       "      <th>AssetGrp</th>\n",
       "      <th>UtilizationHrs_Considered</th>\n",
       "      <th>UtilizationPerc_Considered</th>\n",
       "      <th>UtilizationStatus</th>\n",
       "      <th>ProductivityPercent</th>\n",
       "      <th>Expected_FuelQuantity</th>\n",
       "    </tr>\n",
       "  </thead>\n",
       "  <tbody>\n",
       "    <tr>\n",
       "      <th>0</th>\n",
       "      <td>1260626</td>\n",
       "      <td>W</td>\n",
       "      <td>C133</td>\n",
       "      <td>March</td>\n",
       "      <td>2025</td>\n",
       "      <td>NaN</td>\n",
       "      <td>31.0</td>\n",
       "      <td>132.74</td>\n",
       "      <td>0</td>\n",
       "      <td>65.0</td>\n",
       "      <td>...</td>\n",
       "      <td>01260626-IOCL-Barauni</td>\n",
       "      <td>NaN</td>\n",
       "      <td>201.0</td>\n",
       "      <td>NaN</td>\n",
       "      <td>0126-EARTHMOVING</td>\n",
       "      <td>132.74</td>\n",
       "      <td>65.88</td>\n",
       "      <td>UnderUtilized</td>\n",
       "      <td>LFProductivityPercent</td>\n",
       "      <td>0.0</td>\n",
       "    </tr>\n",
       "    <tr>\n",
       "      <th>1</th>\n",
       "      <td>01261878</td>\n",
       "      <td>W</td>\n",
       "      <td>C134</td>\n",
       "      <td>March</td>\n",
       "      <td>2025</td>\n",
       "      <td>NaN</td>\n",
       "      <td>31.0</td>\n",
       "      <td>49.62</td>\n",
       "      <td>0</td>\n",
       "      <td>24.0</td>\n",
       "      <td>...</td>\n",
       "      <td>01261878-HRRL- Dual Feed Cracker Unit</td>\n",
       "      <td>NaN</td>\n",
       "      <td>201.0</td>\n",
       "      <td>NaN</td>\n",
       "      <td>0126-EARTHMOVING</td>\n",
       "      <td>49.62</td>\n",
       "      <td>24.63</td>\n",
       "      <td>UnderUtilized</td>\n",
       "      <td>LFProductivityPercent</td>\n",
       "      <td>0.0</td>\n",
       "    </tr>\n",
       "    <tr>\n",
       "      <th>2</th>\n",
       "      <td>01261886</td>\n",
       "      <td>W</td>\n",
       "      <td>C121</td>\n",
       "      <td>March</td>\n",
       "      <td>2025</td>\n",
       "      <td>NaN</td>\n",
       "      <td>31.0</td>\n",
       "      <td>0.00</td>\n",
       "      <td>0</td>\n",
       "      <td>0.0</td>\n",
       "      <td>...</td>\n",
       "      <td>01261886-LSTK 1 - Paradip</td>\n",
       "      <td>NaN</td>\n",
       "      <td>201.0</td>\n",
       "      <td>NaN</td>\n",
       "      <td>0126-EARTHMOVING</td>\n",
       "      <td>0.00</td>\n",
       "      <td>0.00</td>\n",
       "      <td>Acceptable</td>\n",
       "      <td>LFProductivityPercent</td>\n",
       "      <td>0.0</td>\n",
       "    </tr>\n",
       "    <tr>\n",
       "      <th>3</th>\n",
       "      <td>01261894</td>\n",
       "      <td>W</td>\n",
       "      <td>C120</td>\n",
       "      <td>March</td>\n",
       "      <td>2025</td>\n",
       "      <td>NaN</td>\n",
       "      <td>31.0</td>\n",
       "      <td>77.40</td>\n",
       "      <td>0</td>\n",
       "      <td>38.0</td>\n",
       "      <td>...</td>\n",
       "      <td>01261894-LSTK 2 - O&amp;U - Paradip</td>\n",
       "      <td>NaN</td>\n",
       "      <td>201.0</td>\n",
       "      <td>NaN</td>\n",
       "      <td>0126-EARTHMOVING</td>\n",
       "      <td>77.40</td>\n",
       "      <td>38.41</td>\n",
       "      <td>UnderUtilized</td>\n",
       "      <td>LFProductivityPercent</td>\n",
       "      <td>0.0</td>\n",
       "    </tr>\n",
       "    <tr>\n",
       "      <th>4</th>\n",
       "      <td>01310062</td>\n",
       "      <td>W</td>\n",
       "      <td>C123</td>\n",
       "      <td>March</td>\n",
       "      <td>2025</td>\n",
       "      <td>NaN</td>\n",
       "      <td>31.0</td>\n",
       "      <td>0.00</td>\n",
       "      <td>0</td>\n",
       "      <td>0.0</td>\n",
       "      <td>...</td>\n",
       "      <td>01310062-RUF - HPCL Vizag HE190004</td>\n",
       "      <td>NaN</td>\n",
       "      <td>201.0</td>\n",
       "      <td>NaN</td>\n",
       "      <td>0131-EARTHMOVING</td>\n",
       "      <td>0.00</td>\n",
       "      <td>0.00</td>\n",
       "      <td>Acceptable</td>\n",
       "      <td>LFProductivityPercent</td>\n",
       "      <td>0.0</td>\n",
       "    </tr>\n",
       "  </tbody>\n",
       "</table>\n",
       "<p>5 rows × 26 columns</p>\n",
       "</div>"
      ],
      "text/plain": [
       "  ASSET_CODE LSWorkType JOB_CODE Monthvalues  YearValues  LogSheetDayCount  \\\n",
       "0    1260626          W     C133       March        2025               NaN   \n",
       "1   01261878          W     C134       March        2025               NaN   \n",
       "2   01261886          W     C121       March        2025               NaN   \n",
       "3   01261894          W     C120       March        2025               NaN   \n",
       "4   01310062          W     C123       March        2025               NaN   \n",
       "\n",
       "   IOTDayCount  IOTRunHr  LOGSheetRunHr  IOTUtilization  ...  \\\n",
       "0         31.0    132.74              0            65.0  ...   \n",
       "1         31.0     49.62              0            24.0  ...   \n",
       "2         31.0      0.00              0             0.0  ...   \n",
       "3         31.0     77.40              0            38.0  ...   \n",
       "4         31.0      0.00              0             0.0  ...   \n",
       "\n",
       "                       Asset_Description ExpectedLogSheetHr ExpectedIOTHrs  \\\n",
       "0                  01260626-IOCL-Barauni                NaN          201.0   \n",
       "1  01261878-HRRL- Dual Feed Cracker Unit                NaN          201.0   \n",
       "2              01261886-LSTK 1 - Paradip                NaN          201.0   \n",
       "3        01261894-LSTK 2 - O&U - Paradip                NaN          201.0   \n",
       "4     01310062-RUF - HPCL Vizag HE190004                NaN          201.0   \n",
       "\n",
       "   Capacity          AssetGrp  UtilizationHrs_Considered  \\\n",
       "0       NaN  0126-EARTHMOVING                     132.74   \n",
       "1       NaN  0126-EARTHMOVING                      49.62   \n",
       "2       NaN  0126-EARTHMOVING                       0.00   \n",
       "3       NaN  0126-EARTHMOVING                      77.40   \n",
       "4       NaN  0131-EARTHMOVING                       0.00   \n",
       "\n",
       "  UtilizationPerc_Considered  UtilizationStatus    ProductivityPercent  \\\n",
       "0                      65.88      UnderUtilized  LFProductivityPercent   \n",
       "1                      24.63      UnderUtilized  LFProductivityPercent   \n",
       "2                       0.00         Acceptable  LFProductivityPercent   \n",
       "3                      38.41      UnderUtilized  LFProductivityPercent   \n",
       "4                       0.00         Acceptable  LFProductivityPercent   \n",
       "\n",
       "  Expected_FuelQuantity  \n",
       "0                   0.0  \n",
       "1                   0.0  \n",
       "2                   0.0  \n",
       "3                   0.0  \n",
       "4                   0.0  \n",
       "\n",
       "[5 rows x 26 columns]"
      ]
     },
     "execution_count": 28,
     "metadata": {},
     "output_type": "execute_result"
    }
   ],
   "source": [
    "df.head()"
   ]
  },
  {
   "cell_type": "code",
   "execution_count": 40,
   "id": "389b7e36",
   "metadata": {},
   "outputs": [],
   "source": [
    "df=df.drop_duplicates()"
   ]
  },
  {
   "cell_type": "code",
   "execution_count": 56,
   "id": "d5f01557",
   "metadata": {},
   "outputs": [
    {
     "data": {
      "text/plain": [
       "2"
      ]
     },
     "execution_count": 56,
     "metadata": {},
     "output_type": "execute_result"
    }
   ],
   "source": [
    "df.isnull().any().sum()"
   ]
  },
  {
   "cell_type": "code",
   "execution_count": 55,
   "id": "fa867ea1",
   "metadata": {},
   "outputs": [],
   "source": [
    "\n",
    "cols_to_fill_zero = [\n",
    "    'LogSheetDayCount', 'IOTDayCount', 'Deviation',\n",
    "    'IOTWOrkDone', 'LogSheetWorkDone',\n",
    "    'ExpectedLogSheetHr', 'ExpectedIOTHrs'\n",
    "]\n",
    "df[cols_to_fill_zero] = df[cols_to_fill_zero].fillna(0)\n"
   ]
  },
  {
   "cell_type": "code",
   "execution_count": 57,
   "id": "d9778955",
   "metadata": {},
   "outputs": [
    {
     "name": "stdout",
     "output_type": "stream",
     "text": [
      "<class 'pandas.core.frame.DataFrame'>\n",
      "RangeIndex: 15480 entries, 0 to 15479\n",
      "Data columns (total 26 columns):\n",
      " #   Column                      Non-Null Count  Dtype  \n",
      "---  ------                      --------------  -----  \n",
      " 0   ASSET_CODE                  15480 non-null  object \n",
      " 1   LSWorkType                  15480 non-null  object \n",
      " 2   JOB_CODE                    15480 non-null  object \n",
      " 3   Monthvalues                 15480 non-null  object \n",
      " 4   YearValues                  15480 non-null  int64  \n",
      " 5   LogSheetDayCount            15480 non-null  float64\n",
      " 6   IOTDayCount                 15480 non-null  float64\n",
      " 7   IOTRunHr                    15480 non-null  float64\n",
      " 8   LOGSheetRunHr               15480 non-null  int64  \n",
      " 9   IOTUtilization              15480 non-null  float64\n",
      " 10  LogUtilization              15480 non-null  float64\n",
      " 11  BU_Description              15480 non-null  object \n",
      " 12  IC_Description              15480 non-null  object \n",
      " 13  Deviation                   15480 non-null  float64\n",
      " 14  IOTWOrkDone                 15480 non-null  float64\n",
      " 15  LogSheetWorkDone            15480 non-null  float64\n",
      " 16  Asset_Description           15480 non-null  object \n",
      " 17  ExpectedLogSheetHr          15480 non-null  float64\n",
      " 18  ExpectedIOTHrs              15480 non-null  float64\n",
      " 19  Capacity                    6926 non-null   object \n",
      " 20  AssetGrp                    15480 non-null  object \n",
      " 21  UtilizationHrs_Considered   15480 non-null  float64\n",
      " 22  UtilizationPerc_Considered  15480 non-null  float64\n",
      " 23  UtilizationStatus           15480 non-null  object \n",
      " 24  ProductivityPercent         15480 non-null  object \n",
      " 25  Expected_FuelQuantity       7108 non-null   float64\n",
      "dtypes: float64(13), int64(2), object(11)\n",
      "memory usage: 3.1+ MB\n"
     ]
    }
   ],
   "source": [
    "df.info()"
   ]
  },
  {
   "cell_type": "code",
   "execution_count": 58,
   "id": "682250aa",
   "metadata": {},
   "outputs": [],
   "source": [
    "df.to_csv('L&T_Cleaned.csv', index=False)"
   ]
  }
 ],
 "metadata": {
  "kernelspec": {
   "display_name": "base",
   "language": "python",
   "name": "python3"
  },
  "language_info": {
   "codemirror_mode": {
    "name": "ipython",
    "version": 3
   },
   "file_extension": ".py",
   "mimetype": "text/x-python",
   "name": "python",
   "nbconvert_exporter": "python",
   "pygments_lexer": "ipython3",
   "version": "3.12.7"
  }
 },
 "nbformat": 4,
 "nbformat_minor": 5
}
